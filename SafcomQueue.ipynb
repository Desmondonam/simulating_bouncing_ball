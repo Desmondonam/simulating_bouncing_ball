{
 "cells": [
  {
   "cell_type": "code",
   "execution_count": null,
   "id": "5a304e9d-f384-4a93-bb73-bbe693592775",
   "metadata": {},
   "outputs": [
    {
     "ename": "",
     "evalue": "",
     "output_type": "error",
     "traceback": [
      "\u001b[1;31mRunning cells with 'Python 3.10.2 64-bit' requires ipykernel package.\n",
      "Run the following command to install 'ipykernel' into the Python environment. \n",
      "Command: 'C:/Users/USER/AppData/Local/Programs/Python/Python310/python.exe -m pip install ipykernel -U --user --force-reinstall'"
     ]
    }
   ],
   "source": [
    "import numpy as np\n",
    "import pandas as pd"
   ]
  },
  {
   "cell_type": "code",
   "execution_count": 2,
   "id": "d04fe218-2994-4b29-83cb-6944c19796d9",
   "metadata": {},
   "outputs": [],
   "source": [
    "col = {\"Customer\",\"ServiceTime\",\"AcruedServiceTime\",\"ArrivalTime\",\"InterArrivalTime\",\"TimeServiceStarts\",\"WaitingTime\",\"TimeServiceEnds\",\"TimeInSystem\",\"IdleServerTime\"}\n",
    "df = pd.DataFrame(columns = col, index = range(0,1000))\n",
    "#df.columns = book"
   ]
  },
  {
   "cell_type": "code",
   "execution_count": 3,
   "id": "93bdf424-9af3-4200-b3f2-364785ff564b",
   "metadata": {},
   "outputs": [
    {
     "data": {
      "text/plain": [
       "Index(['InterArrivalTime', 'ArrivalTime', 'AcruedServiceTime', 'TimeInSystem',\n",
       "       'Customer', 'TimeServiceStarts', 'WaitingTime', 'TimeServiceEnds',\n",
       "       'IdleServerTime', 'ServiceTime'],\n",
       "      dtype='object')"
      ]
     },
     "execution_count": 3,
     "metadata": {},
     "output_type": "execute_result"
    }
   ],
   "source": [
    "df.columns"
   ]
  },
  {
   "cell_type": "code",
   "execution_count": 5,
   "id": "9aa6e6f3-a01f-42a5-8904-adc97a530a3e",
   "metadata": {},
   "outputs": [
    {
     "name": "stdout",
     "output_type": "stream",
     "text": [
      "Enter the value of x0: 33\n",
      "Enter the value of m>0: 45\n",
      "Enter the value of a<m: 23\n",
      "Enter the value of c<m: 11\n"
     ]
    }
   ],
   "source": [
    "#p = [0,8,6,1,8,3,8,7,2,3,3,1,5,6,3,8,1,2,4,3]inter arrival time (lcg)\n",
    "#q = [4,1,4,3,2,4,5,4,5,3,3,5,4,1,5,4,3,3,2,3]service time (clcg)\n",
    "d = range(0,1000)\n",
    "p = np.array(d)\n",
    "q = np.array(d)\n",
    "x0 = int(input(\"Enter the value of x0:\"))\n",
    "m = int(input(\"Enter the value of m>0:\"))\n",
    "a = int(input(\"Enter the value of a<m:\"))\n",
    "c = int(input(\"Enter the value of c<m:\"))\n",
    "for i in range(1,1000):\n",
    "    p[0] = x0\n",
    "    q[0] = np.random.randint(0,50)\n",
    "    p[i] = (a*p[i-1] + c)%m\n",
    "    q[i] = (a*p[i-1] + c*q[i-1])%10"
   ]
  },
  {
   "cell_type": "code",
   "execution_count": 6,
   "id": "1cde055f-bbeb-431d-9b4e-5ccb4fef6b40",
   "metadata": {},
   "outputs": [
    {
     "data": {
      "text/plain": [
       "array([33,  5, 36, 29,  3, 35,  6, 14, 18, 20, 21, 44, 33,  5, 36, 29,  3,\n",
       "       35,  6, 14, 18, 20, 21, 44, 33,  5, 36, 29,  3, 35,  6, 14, 18, 20,\n",
       "       21, 44, 33,  5, 36, 29,  3, 35,  6, 14, 18, 20, 21, 44, 33,  5, 36,\n",
       "       29,  3, 35,  6, 14, 18, 20, 21, 44, 33,  5, 36, 29,  3, 35,  6, 14,\n",
       "       18, 20, 21, 44, 33,  5, 36, 29,  3, 35,  6, 14, 18, 20, 21, 44, 33,\n",
       "        5, 36, 29,  3, 35,  6, 14, 18, 20, 21, 44, 33,  5, 36, 29,  3, 35,\n",
       "        6, 14, 18, 20, 21, 44, 33,  5, 36, 29,  3, 35,  6, 14, 18, 20, 21,\n",
       "       44, 33,  5, 36, 29,  3, 35,  6, 14, 18, 20, 21, 44, 33,  5, 36, 29,\n",
       "        3, 35,  6, 14, 18, 20, 21, 44, 33,  5, 36, 29,  3, 35,  6, 14, 18,\n",
       "       20, 21, 44, 33,  5, 36, 29,  3, 35,  6, 14, 18, 20, 21, 44, 33,  5,\n",
       "       36, 29,  3, 35,  6, 14, 18, 20, 21, 44, 33,  5, 36, 29,  3, 35,  6,\n",
       "       14, 18, 20, 21, 44, 33,  5, 36, 29,  3, 35,  6, 14, 18, 20, 21, 44,\n",
       "       33,  5, 36, 29,  3, 35,  6, 14, 18, 20, 21, 44, 33,  5, 36, 29,  3,\n",
       "       35,  6, 14, 18, 20, 21, 44, 33,  5, 36, 29,  3, 35,  6, 14, 18, 20,\n",
       "       21, 44, 33,  5, 36, 29,  3, 35,  6, 14, 18, 20, 21, 44, 33,  5, 36,\n",
       "       29,  3, 35,  6, 14, 18, 20, 21, 44, 33,  5, 36, 29,  3, 35,  6, 14,\n",
       "       18, 20, 21, 44, 33,  5, 36, 29,  3, 35,  6, 14, 18, 20, 21, 44, 33,\n",
       "        5, 36, 29,  3, 35,  6, 14, 18, 20, 21, 44, 33,  5, 36, 29,  3, 35,\n",
       "        6, 14, 18, 20, 21, 44, 33,  5, 36, 29,  3, 35,  6, 14, 18, 20, 21,\n",
       "       44, 33,  5, 36, 29,  3, 35,  6, 14, 18, 20, 21, 44, 33,  5, 36, 29,\n",
       "        3, 35,  6, 14, 18, 20, 21, 44, 33,  5, 36, 29,  3, 35,  6, 14, 18,\n",
       "       20, 21, 44, 33,  5, 36, 29,  3, 35,  6, 14, 18, 20, 21, 44, 33,  5,\n",
       "       36, 29,  3, 35,  6, 14, 18, 20, 21, 44, 33,  5, 36, 29,  3, 35,  6,\n",
       "       14, 18, 20, 21, 44, 33,  5, 36, 29,  3, 35,  6, 14, 18, 20, 21, 44,\n",
       "       33,  5, 36, 29,  3, 35,  6, 14, 18, 20, 21, 44, 33,  5, 36, 29,  3,\n",
       "       35,  6, 14, 18, 20, 21, 44, 33,  5, 36, 29,  3, 35,  6, 14, 18, 20,\n",
       "       21, 44, 33,  5, 36, 29,  3, 35,  6, 14, 18, 20, 21, 44, 33,  5, 36,\n",
       "       29,  3, 35,  6, 14, 18, 20, 21, 44, 33,  5, 36, 29,  3, 35,  6, 14,\n",
       "       18, 20, 21, 44, 33,  5, 36, 29,  3, 35,  6, 14, 18, 20, 21, 44, 33,\n",
       "        5, 36, 29,  3, 35,  6, 14, 18, 20, 21, 44, 33,  5, 36, 29,  3, 35,\n",
       "        6, 14, 18, 20, 21, 44, 33,  5, 36, 29,  3, 35,  6, 14, 18, 20, 21,\n",
       "       44, 33,  5, 36, 29,  3, 35,  6, 14, 18, 20, 21, 44, 33,  5, 36, 29,\n",
       "        3, 35,  6, 14, 18, 20, 21, 44, 33,  5, 36, 29,  3, 35,  6, 14, 18,\n",
       "       20, 21, 44, 33,  5, 36, 29,  3, 35,  6, 14, 18, 20, 21, 44, 33,  5,\n",
       "       36, 29,  3, 35,  6, 14, 18, 20, 21, 44, 33,  5, 36, 29,  3, 35,  6,\n",
       "       14, 18, 20, 21, 44, 33,  5, 36, 29,  3, 35,  6, 14, 18, 20, 21, 44,\n",
       "       33,  5, 36, 29,  3, 35,  6, 14, 18, 20, 21, 44, 33,  5, 36, 29,  3,\n",
       "       35,  6, 14, 18, 20, 21, 44, 33,  5, 36, 29,  3, 35,  6, 14, 18, 20,\n",
       "       21, 44, 33,  5, 36, 29,  3, 35,  6, 14, 18, 20, 21, 44, 33,  5, 36,\n",
       "       29,  3, 35,  6, 14, 18, 20, 21, 44, 33,  5, 36, 29,  3, 35,  6, 14,\n",
       "       18, 20, 21, 44, 33,  5, 36, 29,  3, 35,  6, 14, 18, 20, 21, 44, 33,\n",
       "        5, 36, 29,  3, 35,  6, 14, 18, 20, 21, 44, 33,  5, 36, 29,  3, 35,\n",
       "        6, 14, 18, 20, 21, 44, 33,  5, 36, 29,  3, 35,  6, 14, 18, 20, 21,\n",
       "       44, 33,  5, 36, 29,  3, 35,  6, 14, 18, 20, 21, 44, 33,  5, 36, 29,\n",
       "        3, 35,  6, 14, 18, 20, 21, 44, 33,  5, 36, 29,  3, 35,  6, 14, 18,\n",
       "       20, 21, 44, 33,  5, 36, 29,  3, 35,  6, 14, 18, 20, 21, 44, 33,  5,\n",
       "       36, 29,  3, 35,  6, 14, 18, 20, 21, 44, 33,  5, 36, 29,  3, 35,  6,\n",
       "       14, 18, 20, 21, 44, 33,  5, 36, 29,  3, 35,  6, 14, 18, 20, 21, 44,\n",
       "       33,  5, 36, 29,  3, 35,  6, 14, 18, 20, 21, 44, 33,  5, 36, 29,  3,\n",
       "       35,  6, 14, 18, 20, 21, 44, 33,  5, 36, 29,  3, 35,  6, 14, 18, 20,\n",
       "       21, 44, 33,  5, 36, 29,  3, 35,  6, 14, 18, 20, 21, 44, 33,  5, 36,\n",
       "       29,  3, 35,  6, 14, 18, 20, 21, 44, 33,  5, 36, 29,  3, 35,  6, 14,\n",
       "       18, 20, 21, 44, 33,  5, 36, 29,  3, 35,  6, 14, 18, 20, 21, 44, 33,\n",
       "        5, 36, 29,  3, 35,  6, 14, 18, 20, 21, 44, 33,  5, 36, 29,  3, 35,\n",
       "        6, 14, 18, 20, 21, 44, 33,  5, 36, 29,  3, 35,  6, 14, 18, 20, 21,\n",
       "       44, 33,  5, 36, 29,  3, 35,  6, 14, 18, 20, 21, 44, 33,  5, 36, 29,\n",
       "        3, 35,  6, 14, 18, 20, 21, 44, 33,  5, 36, 29,  3, 35,  6, 14, 18,\n",
       "       20, 21, 44, 33,  5, 36, 29,  3, 35,  6, 14, 18, 20, 21, 44, 33,  5,\n",
       "       36, 29,  3, 35,  6, 14, 18, 20, 21, 44, 33,  5, 36, 29])"
      ]
     },
     "execution_count": 6,
     "metadata": {},
     "output_type": "execute_result"
    }
   ],
   "source": [
    "p"
   ]
  },
  {
   "cell_type": "code",
   "execution_count": 7,
   "id": "594a849f-ddfe-4530-8fb1-db11af163886",
   "metadata": {},
   "outputs": [
    {
     "data": {
      "text/plain": [
       "array([6, 7, 2, 0, 7, 6, 1, 9, 1, 5, 5, 8, 0, 9, 4, 2, 9, 8, 3, 1, 3, 7,\n",
       "       7, 0, 2, 1, 6, 4, 1, 0, 5, 3, 5, 9, 9, 2, 4, 3, 8, 6, 3, 2, 7, 5,\n",
       "       7, 1, 1, 4, 6, 5, 0, 8, 5, 4, 9, 7, 9, 3, 3, 6, 8, 7, 2, 0, 7, 6,\n",
       "       1, 9, 1, 5, 5, 8, 0, 9, 4, 2, 9, 8, 3, 1, 3, 7, 7, 0, 2, 1, 6, 4,\n",
       "       1, 0, 5, 3, 5, 9, 9, 2, 4, 3, 8, 6, 3, 2, 7, 5, 7, 1, 1, 4, 6, 5,\n",
       "       0, 8, 5, 4, 9, 7, 9, 3, 3, 6, 8, 7, 2, 0, 7, 6, 1, 9, 1, 5, 5, 8,\n",
       "       0, 9, 4, 2, 9, 8, 3, 1, 3, 7, 7, 0, 2, 1, 6, 4, 1, 0, 5, 3, 5, 9,\n",
       "       9, 2, 4, 3, 8, 6, 3, 2, 7, 5, 7, 1, 1, 4, 6, 5, 0, 8, 5, 4, 9, 7,\n",
       "       9, 3, 3, 6, 8, 7, 2, 0, 7, 6, 1, 9, 1, 5, 5, 8, 0, 9, 4, 2, 9, 8,\n",
       "       3, 1, 3, 7, 7, 0, 2, 1, 6, 4, 1, 0, 5, 3, 5, 9, 9, 2, 4, 3, 8, 6,\n",
       "       3, 2, 7, 5, 7, 1, 1, 4, 6, 5, 0, 8, 5, 4, 9, 7, 9, 3, 3, 6, 8, 7,\n",
       "       2, 0, 7, 6, 1, 9, 1, 5, 5, 8, 0, 9, 4, 2, 9, 8, 3, 1, 3, 7, 7, 0,\n",
       "       2, 1, 6, 4, 1, 0, 5, 3, 5, 9, 9, 2, 4, 3, 8, 6, 3, 2, 7, 5, 7, 1,\n",
       "       1, 4, 6, 5, 0, 8, 5, 4, 9, 7, 9, 3, 3, 6, 8, 7, 2, 0, 7, 6, 1, 9,\n",
       "       1, 5, 5, 8, 0, 9, 4, 2, 9, 8, 3, 1, 3, 7, 7, 0, 2, 1, 6, 4, 1, 0,\n",
       "       5, 3, 5, 9, 9, 2, 4, 3, 8, 6, 3, 2, 7, 5, 7, 1, 1, 4, 6, 5, 0, 8,\n",
       "       5, 4, 9, 7, 9, 3, 3, 6, 8, 7, 2, 0, 7, 6, 1, 9, 1, 5, 5, 8, 0, 9,\n",
       "       4, 2, 9, 8, 3, 1, 3, 7, 7, 0, 2, 1, 6, 4, 1, 0, 5, 3, 5, 9, 9, 2,\n",
       "       4, 3, 8, 6, 3, 2, 7, 5, 7, 1, 1, 4, 6, 5, 0, 8, 5, 4, 9, 7, 9, 3,\n",
       "       3, 6, 8, 7, 2, 0, 7, 6, 1, 9, 1, 5, 5, 8, 0, 9, 4, 2, 9, 8, 3, 1,\n",
       "       3, 7, 7, 0, 2, 1, 6, 4, 1, 0, 5, 3, 5, 9, 9, 2, 4, 3, 8, 6, 3, 2,\n",
       "       7, 5, 7, 1, 1, 4, 6, 5, 0, 8, 5, 4, 9, 7, 9, 3, 3, 6, 8, 7, 2, 0,\n",
       "       7, 6, 1, 9, 1, 5, 5, 8, 0, 9, 4, 2, 9, 8, 3, 1, 3, 7, 7, 0, 2, 1,\n",
       "       6, 4, 1, 0, 5, 3, 5, 9, 9, 2, 4, 3, 8, 6, 3, 2, 7, 5, 7, 1, 1, 4,\n",
       "       6, 5, 0, 8, 5, 4, 9, 7, 9, 3, 3, 6, 8, 7, 2, 0, 7, 6, 1, 9, 1, 5,\n",
       "       5, 8, 0, 9, 4, 2, 9, 8, 3, 1, 3, 7, 7, 0, 2, 1, 6, 4, 1, 0, 5, 3,\n",
       "       5, 9, 9, 2, 4, 3, 8, 6, 3, 2, 7, 5, 7, 1, 1, 4, 6, 5, 0, 8, 5, 4,\n",
       "       9, 7, 9, 3, 3, 6, 8, 7, 2, 0, 7, 6, 1, 9, 1, 5, 5, 8, 0, 9, 4, 2,\n",
       "       9, 8, 3, 1, 3, 7, 7, 0, 2, 1, 6, 4, 1, 0, 5, 3, 5, 9, 9, 2, 4, 3,\n",
       "       8, 6, 3, 2, 7, 5, 7, 1, 1, 4, 6, 5, 0, 8, 5, 4, 9, 7, 9, 3, 3, 6,\n",
       "       8, 7, 2, 0, 7, 6, 1, 9, 1, 5, 5, 8, 0, 9, 4, 2, 9, 8, 3, 1, 3, 7,\n",
       "       7, 0, 2, 1, 6, 4, 1, 0, 5, 3, 5, 9, 9, 2, 4, 3, 8, 6, 3, 2, 7, 5,\n",
       "       7, 1, 1, 4, 6, 5, 0, 8, 5, 4, 9, 7, 9, 3, 3, 6, 8, 7, 2, 0, 7, 6,\n",
       "       1, 9, 1, 5, 5, 8, 0, 9, 4, 2, 9, 8, 3, 1, 3, 7, 7, 0, 2, 1, 6, 4,\n",
       "       1, 0, 5, 3, 5, 9, 9, 2, 4, 3, 8, 6, 3, 2, 7, 5, 7, 1, 1, 4, 6, 5,\n",
       "       0, 8, 5, 4, 9, 7, 9, 3, 3, 6, 8, 7, 2, 0, 7, 6, 1, 9, 1, 5, 5, 8,\n",
       "       0, 9, 4, 2, 9, 8, 3, 1, 3, 7, 7, 0, 2, 1, 6, 4, 1, 0, 5, 3, 5, 9,\n",
       "       9, 2, 4, 3, 8, 6, 3, 2, 7, 5, 7, 1, 1, 4, 6, 5, 0, 8, 5, 4, 9, 7,\n",
       "       9, 3, 3, 6, 8, 7, 2, 0, 7, 6, 1, 9, 1, 5, 5, 8, 0, 9, 4, 2, 9, 8,\n",
       "       3, 1, 3, 7, 7, 0, 2, 1, 6, 4, 1, 0, 5, 3, 5, 9, 9, 2, 4, 3, 8, 6,\n",
       "       3, 2, 7, 5, 7, 1, 1, 4, 6, 5, 0, 8, 5, 4, 9, 7, 9, 3, 3, 6, 8, 7,\n",
       "       2, 0, 7, 6, 1, 9, 1, 5, 5, 8, 0, 9, 4, 2, 9, 8, 3, 1, 3, 7, 7, 0,\n",
       "       2, 1, 6, 4, 1, 0, 5, 3, 5, 9, 9, 2, 4, 3, 8, 6, 3, 2, 7, 5, 7, 1,\n",
       "       1, 4, 6, 5, 0, 8, 5, 4, 9, 7, 9, 3, 3, 6, 8, 7, 2, 0, 7, 6, 1, 9,\n",
       "       1, 5, 5, 8, 0, 9, 4, 2, 9, 8, 3, 1, 3, 7, 7, 0, 2, 1, 6, 4, 1, 0,\n",
       "       5, 3, 5, 9, 9, 2, 4, 3, 8, 6])"
      ]
     },
     "execution_count": 7,
     "metadata": {},
     "output_type": "execute_result"
    }
   ],
   "source": [
    "q"
   ]
  },
  {
   "cell_type": "code",
   "execution_count": 10,
   "id": "081a0165-3b09-4b0d-b1a6-a58e7c567b6d",
   "metadata": {
    "tags": []
   },
   "outputs": [
    {
     "name": "stderr",
     "output_type": "stream",
     "text": [
      "/home/evans/anaconda3/lib/python3.8/site-packages/pandas/core/indexing.py:1732: SettingWithCopyWarning: \n",
      "A value is trying to be set on a copy of a slice from a DataFrame\n",
      "\n",
      "See the caveats in the documentation: https://pandas.pydata.org/pandas-docs/stable/user_guide/indexing.html#returning-a-view-versus-a-copy\n",
      "  self._setitem_single_block(indexer, value, name)\n"
     ]
    }
   ],
   "source": [
    "for i in range(0,1000):\n",
    "    df.Customer.loc[i] = i+1\n",
    "    df.ServiceTime = q\n",
    "    df.AcruedServiceTime.loc[0] = df.ServiceTime.loc[0]    \n",
    "    if(i<999):\n",
    "        df.AcruedServiceTime.loc[i+1] = df.AcruedServiceTime.loc[i] + df.ServiceTime.loc[i+1]\n",
    "    df.InterArrivalTime.loc[i] = p[i]\n",
    "    df.IdleServerTime.loc[0] = 0\n",
    "    df.ArrivalTime.loc[0] = 0\n",
    "    df.WaitingTime.loc[0] = 0\n",
    "    df.TimeServiceEnds.loc[0] = df.ServiceTime.loc[0]\n",
    "    if(i<999):\n",
    "        df.ArrivalTime.loc[i+1] = df.ArrivalTime.loc[i] + df.InterArrivalTime.loc[i+1]\n",
    "        df.WaitingTime.loc[i+1] = max(df.TimeServiceEnds.loc[i] - df.ArrivalTime.loc[i+1],0)\n",
    "        df.TimeServiceEnds.loc[i+1] = df.ArrivalTime.loc[i+1] + df.WaitingTime.loc[i+1] + df.ServiceTime.loc[i+1]\n",
    "        df.IdleServerTime.loc[i+1] = max(df.ArrivalTime.loc[i+1] - df.TimeServiceEnds.loc[i], 0)\n",
    "    df.TimeInSystem.loc[i] = df.TimeServiceEnds.loc[i] - df.ArrivalTime[i]\n",
    "    df.TimeServiceStarts.loc[0] = 0\n",
    "    if(i<999):\n",
    "        df.TimeServiceStarts.loc[i+1] = max(df.TimeServiceEnds.loc[i],df.ArrivalTime.loc[i+1])"
   ]
  },
  {
   "cell_type": "code",
   "execution_count": 11,
   "id": "cd58d9cd-0f3e-478f-b00a-b0489d12f48e",
   "metadata": {},
   "outputs": [
    {
     "data": {
      "text/html": [
       "<div>\n",
       "<style scoped>\n",
       "    .dataframe tbody tr th:only-of-type {\n",
       "        vertical-align: middle;\n",
       "    }\n",
       "\n",
       "    .dataframe tbody tr th {\n",
       "        vertical-align: top;\n",
       "    }\n",
       "\n",
       "    .dataframe thead th {\n",
       "        text-align: right;\n",
       "    }\n",
       "</style>\n",
       "<table border=\"1\" class=\"dataframe\">\n",
       "  <thead>\n",
       "    <tr style=\"text-align: right;\">\n",
       "      <th></th>\n",
       "      <th>InterArrivalTime</th>\n",
       "      <th>ArrivalTime</th>\n",
       "      <th>AcruedServiceTime</th>\n",
       "      <th>TimeInSystem</th>\n",
       "      <th>Customer</th>\n",
       "      <th>TimeServiceStarts</th>\n",
       "      <th>WaitingTime</th>\n",
       "      <th>TimeServiceEnds</th>\n",
       "      <th>IdleServerTime</th>\n",
       "      <th>ServiceTime</th>\n",
       "    </tr>\n",
       "  </thead>\n",
       "  <tbody>\n",
       "    <tr>\n",
       "      <th>0</th>\n",
       "      <td>33</td>\n",
       "      <td>0</td>\n",
       "      <td>6</td>\n",
       "      <td>6</td>\n",
       "      <td>1</td>\n",
       "      <td>0</td>\n",
       "      <td>0</td>\n",
       "      <td>6</td>\n",
       "      <td>0</td>\n",
       "      <td>6</td>\n",
       "    </tr>\n",
       "    <tr>\n",
       "      <th>1</th>\n",
       "      <td>5</td>\n",
       "      <td>5</td>\n",
       "      <td>13</td>\n",
       "      <td>8</td>\n",
       "      <td>2</td>\n",
       "      <td>6</td>\n",
       "      <td>1</td>\n",
       "      <td>13</td>\n",
       "      <td>0</td>\n",
       "      <td>7</td>\n",
       "    </tr>\n",
       "    <tr>\n",
       "      <th>2</th>\n",
       "      <td>36</td>\n",
       "      <td>41</td>\n",
       "      <td>15</td>\n",
       "      <td>2</td>\n",
       "      <td>3</td>\n",
       "      <td>41</td>\n",
       "      <td>0</td>\n",
       "      <td>43</td>\n",
       "      <td>28</td>\n",
       "      <td>2</td>\n",
       "    </tr>\n",
       "    <tr>\n",
       "      <th>3</th>\n",
       "      <td>29</td>\n",
       "      <td>70</td>\n",
       "      <td>15</td>\n",
       "      <td>0</td>\n",
       "      <td>4</td>\n",
       "      <td>70</td>\n",
       "      <td>0</td>\n",
       "      <td>70</td>\n",
       "      <td>27</td>\n",
       "      <td>0</td>\n",
       "    </tr>\n",
       "    <tr>\n",
       "      <th>4</th>\n",
       "      <td>3</td>\n",
       "      <td>73</td>\n",
       "      <td>22</td>\n",
       "      <td>7</td>\n",
       "      <td>5</td>\n",
       "      <td>73</td>\n",
       "      <td>0</td>\n",
       "      <td>80</td>\n",
       "      <td>3</td>\n",
       "      <td>7</td>\n",
       "    </tr>\n",
       "    <tr>\n",
       "      <th>...</th>\n",
       "      <td>...</td>\n",
       "      <td>...</td>\n",
       "      <td>...</td>\n",
       "      <td>...</td>\n",
       "      <td>...</td>\n",
       "      <td>...</td>\n",
       "      <td>...</td>\n",
       "      <td>...</td>\n",
       "      <td>...</td>\n",
       "      <td>...</td>\n",
       "    </tr>\n",
       "    <tr>\n",
       "      <th>995</th>\n",
       "      <td>44</td>\n",
       "      <td>21879</td>\n",
       "      <td>4557</td>\n",
       "      <td>2</td>\n",
       "      <td>996</td>\n",
       "      <td>21879</td>\n",
       "      <td>0</td>\n",
       "      <td>21881</td>\n",
       "      <td>35</td>\n",
       "      <td>2</td>\n",
       "    </tr>\n",
       "    <tr>\n",
       "      <th>996</th>\n",
       "      <td>33</td>\n",
       "      <td>21912</td>\n",
       "      <td>4561</td>\n",
       "      <td>4</td>\n",
       "      <td>997</td>\n",
       "      <td>21912</td>\n",
       "      <td>0</td>\n",
       "      <td>21916</td>\n",
       "      <td>31</td>\n",
       "      <td>4</td>\n",
       "    </tr>\n",
       "    <tr>\n",
       "      <th>997</th>\n",
       "      <td>5</td>\n",
       "      <td>21917</td>\n",
       "      <td>4564</td>\n",
       "      <td>3</td>\n",
       "      <td>998</td>\n",
       "      <td>21917</td>\n",
       "      <td>0</td>\n",
       "      <td>21920</td>\n",
       "      <td>1</td>\n",
       "      <td>3</td>\n",
       "    </tr>\n",
       "    <tr>\n",
       "      <th>998</th>\n",
       "      <td>36</td>\n",
       "      <td>21953</td>\n",
       "      <td>4572</td>\n",
       "      <td>8</td>\n",
       "      <td>999</td>\n",
       "      <td>21953</td>\n",
       "      <td>0</td>\n",
       "      <td>21961</td>\n",
       "      <td>33</td>\n",
       "      <td>8</td>\n",
       "    </tr>\n",
       "    <tr>\n",
       "      <th>999</th>\n",
       "      <td>29</td>\n",
       "      <td>21982</td>\n",
       "      <td>4578</td>\n",
       "      <td>6</td>\n",
       "      <td>1000</td>\n",
       "      <td>21982</td>\n",
       "      <td>0</td>\n",
       "      <td>21988</td>\n",
       "      <td>21</td>\n",
       "      <td>6</td>\n",
       "    </tr>\n",
       "  </tbody>\n",
       "</table>\n",
       "<p>1000 rows × 10 columns</p>\n",
       "</div>"
      ],
      "text/plain": [
       "    InterArrivalTime ArrivalTime AcruedServiceTime TimeInSystem Customer  \\\n",
       "0                 33           0                 6            6        1   \n",
       "1                  5           5                13            8        2   \n",
       "2                 36          41                15            2        3   \n",
       "3                 29          70                15            0        4   \n",
       "4                  3          73                22            7        5   \n",
       "..               ...         ...               ...          ...      ...   \n",
       "995               44       21879              4557            2      996   \n",
       "996               33       21912              4561            4      997   \n",
       "997                5       21917              4564            3      998   \n",
       "998               36       21953              4572            8      999   \n",
       "999               29       21982              4578            6     1000   \n",
       "\n",
       "    TimeServiceStarts WaitingTime TimeServiceEnds IdleServerTime  ServiceTime  \n",
       "0                   0           0               6              0            6  \n",
       "1                   6           1              13              0            7  \n",
       "2                  41           0              43             28            2  \n",
       "3                  70           0              70             27            0  \n",
       "4                  73           0              80              3            7  \n",
       "..                ...         ...             ...            ...          ...  \n",
       "995             21879           0           21881             35            2  \n",
       "996             21912           0           21916             31            4  \n",
       "997             21917           0           21920              1            3  \n",
       "998             21953           0           21961             33            8  \n",
       "999             21982           0           21988             21            6  \n",
       "\n",
       "[1000 rows x 10 columns]"
      ]
     },
     "execution_count": 11,
     "metadata": {},
     "output_type": "execute_result"
    }
   ],
   "source": [
    "df"
   ]
  },
  {
   "cell_type": "markdown",
   "id": "352a67d8-c44d-4c28-afe9-0b459031eaa4",
   "metadata": {},
   "source": [
    "What is the average waiting time?"
   ]
  },
  {
   "cell_type": "code",
   "execution_count": 12,
   "id": "a936c407-611b-47e0-9c45-c72185c8271b",
   "metadata": {},
   "outputs": [
    {
     "data": {
      "text/plain": [
       "0.244"
      ]
     },
     "execution_count": 12,
     "metadata": {},
     "output_type": "execute_result"
    }
   ],
   "source": [
    "df.WaitingTime.mean()"
   ]
  },
  {
   "cell_type": "markdown",
   "id": "de9cdc17-b9c7-4d0d-b6ef-c591d3e9b085",
   "metadata": {},
   "source": [
    "What is the probability of waiting?"
   ]
  },
  {
   "cell_type": "code",
   "execution_count": 13,
   "id": "0be40d2e-ff04-4421-b499-1bbf7d57de50",
   "metadata": {},
   "outputs": [
    {
     "data": {
      "text/plain": [
       "4.95"
      ]
     },
     "execution_count": 13,
     "metadata": {},
     "output_type": "execute_result"
    }
   ],
   "source": [
    "global count\n",
    "count = 0\n",
    "for i in df.WaitingTime:\n",
    "    if i > 0:\n",
    "        count += 1\n",
    "count / 20"
   ]
  },
  {
   "cell_type": "markdown",
   "id": "05edfbd0-3d1b-4927-b1e9-025c9e036766",
   "metadata": {},
   "source": [
    "What is the total idle time of the server?"
   ]
  },
  {
   "cell_type": "code",
   "execution_count": 14,
   "id": "edba1e0c-e100-4290-9b67-1b979799ec21",
   "metadata": {},
   "outputs": [
    {
     "data": {
      "text/plain": [
       "17410"
      ]
     },
     "execution_count": 14,
     "metadata": {},
     "output_type": "execute_result"
    }
   ],
   "source": [
    "df.IdleServerTime.sum()"
   ]
  },
  {
   "cell_type": "markdown",
   "id": "0e51fecb-951c-40c7-a0ff-1deaa4c71d9f",
   "metadata": {},
   "source": [
    "What is the probability that a server will be idle?"
   ]
  },
  {
   "cell_type": "code",
   "execution_count": 15,
   "id": "1edc2fc8-078a-42ca-b4aa-7ed7adf455fb",
   "metadata": {},
   "outputs": [
    {
     "data": {
      "text/plain": [
       "44.15"
      ]
     },
     "execution_count": 15,
     "metadata": {},
     "output_type": "execute_result"
    }
   ],
   "source": [
    "global count\n",
    "count = 0\n",
    "for i in df.IdleServerTime:\n",
    "    if i > 0:\n",
    "        count +=1\n",
    "count/20"
   ]
  },
  {
   "cell_type": "markdown",
   "id": "93819da5-eb1c-4eb8-95e7-e76a50c63003",
   "metadata": {},
   "source": [
    "What is the average service time?"
   ]
  },
  {
   "cell_type": "code",
   "execution_count": 16,
   "id": "50838f39-522f-4a85-bcc1-3542b7f386e6",
   "metadata": {},
   "outputs": [
    {
     "data": {
      "text/plain": [
       "4.578"
      ]
     },
     "execution_count": 16,
     "metadata": {},
     "output_type": "execute_result"
    }
   ],
   "source": [
    "df.ServiceTime.mean()"
   ]
  },
  {
   "cell_type": "markdown",
   "id": "b7c5490d-7df4-4a84-9fc6-e794458a8ac6",
   "metadata": {},
   "source": [
    "What is the average time between inter-arrivals?"
   ]
  },
  {
   "cell_type": "code",
   "execution_count": 17,
   "id": "e0f200f4-0451-460e-823b-7c91fde0f22e",
   "metadata": {},
   "outputs": [
    {
     "data": {
      "text/plain": [
       "11.013006503251626"
      ]
     },
     "execution_count": 17,
     "metadata": {},
     "output_type": "execute_result"
    }
   ],
   "source": [
    "df.InterArrivalTime.sum() / 1999 # There are only 19 times in between each pair of the 20 arrivals. 19 pairs."
   ]
  },
  {
   "cell_type": "markdown",
   "id": "b91c8a5e-860d-46a3-b305-16f62972b75e",
   "metadata": {},
   "source": [
    "What is the average time customer spends in the system?"
   ]
  },
  {
   "cell_type": "code",
   "execution_count": 18,
   "id": "23c6d288-63cb-4fb9-890b-7af567c72f06",
   "metadata": {},
   "outputs": [
    {
     "data": {
      "text/plain": [
       "4.822"
      ]
     },
     "execution_count": 18,
     "metadata": {},
     "output_type": "execute_result"
    }
   ],
   "source": [
    "df.TimeInSystem.mean()"
   ]
  },
  {
   "cell_type": "code",
   "execution_count": null,
   "id": "b9cf8aa5-b10f-41d4-bbb4-961e13fd4777",
   "metadata": {},
   "outputs": [],
   "source": []
  }
 ],
 "metadata": {
  "kernelspec": {
   "display_name": "Python 3 (ipykernel)",
   "language": "python",
   "name": "python3"
  },
  "language_info": {
   "codemirror_mode": {
    "name": "ipython",
    "version": 3
   },
   "file_extension": ".py",
   "mimetype": "text/x-python",
   "name": "python",
   "nbconvert_exporter": "python",
   "pygments_lexer": "ipython3",
   "version": "3.10.2"
  }
 },
 "nbformat": 4,
 "nbformat_minor": 5
}
